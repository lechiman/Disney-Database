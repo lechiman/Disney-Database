{
 "cells": [
  {
   "cell_type": "code",
   "execution_count": 6,
   "id": "e74badfd-5bab-4feb-8363-a3bcc9a2f109",
   "metadata": {},
   "outputs": [
    {
     "name": "stdout",
     "output_type": "stream",
     "text": [
      "Reading CSV file...\n",
      "Cleaning data...\n",
      "Saving cleaned file...\n",
      "Done! Cleaned file saved as 'disney_plus_titles_cleaned.csv'\n",
      "Processed 1450 rows\n"
     ]
    }
   ],
   "source": [
    "import pandas as pd\n",
    "import unicodedata\n",
    "\n",
    "def clean_text(text):\n",
    "    if not isinstance(text, str):\n",
    "        return text\n",
    "    \n",
    "    # Replace common problematic characters\n",
    "    text = text.replace('\"', '\"')  # smart quote left\n",
    "    text = text.replace('\"', '\"')  # smart quote right\n",
    "    text = text.replace(''', \"'\")  # smart apostrophe left\n",
    "    text = text.replace(''', \"'\")  # smart apostrophe right\n",
    "    text = text.replace('–', '-')  # en dash\n",
    "    text = text.replace('—', '-')  # em dash\n",
    "    text = text.replace('…', '...')  # ellipsis\n",
    "    text = text.replace('®', '(R)')  # registered trademark\n",
    "    \n",
    "    # Convert accented characters to ASCII\n",
    "    normalized = unicodedata.normalize('NFD', text)\n",
    "    ascii_text = normalized.encode('ascii', 'ignore').decode('ascii')\n",
    "    \n",
    "    return ascii_text\n",
    "\n",
    "# Read the CSV file\n",
    "print(\"Reading CSV file...\")\n",
    "df = pd.read_csv('disney_plus_titles.csv')\n",
    "\n",
    "# Clean all text columns\n",
    "print(\"Cleaning data...\")\n",
    "for column in df.columns:\n",
    "    if df[column].dtype == 'object':\n",
    "        df[column] = df[column].apply(clean_text)\n",
    "\n",
    "# Fill missing values\n",
    "df = df.fillna('')\n",
    "\n",
    "# Save cleaned file\n",
    "print(\"Saving cleaned file...\")\n",
    "df.to_csv('disney_plus_titles_cleaned.csv', index=False)\n",
    "\n",
    "print(\"Done! Cleaned file saved as 'disney_plus_titles_cleaned.csv'\")\n",
    "print(f\"Processed {len(df)} rows\")"
   ]
  },
  {
   "cell_type": "code",
   "execution_count": null,
   "id": "0fc8c149-fc52-40c5-92c2-d7db967d2e07",
   "metadata": {},
   "outputs": [],
   "source": []
  }
 ],
 "metadata": {
  "kernelspec": {
   "display_name": "Python [conda env:base] *",
   "language": "python",
   "name": "conda-base-py"
  },
  "language_info": {
   "codemirror_mode": {
    "name": "ipython",
    "version": 3
   },
   "file_extension": ".py",
   "mimetype": "text/x-python",
   "name": "python",
   "nbconvert_exporter": "python",
   "pygments_lexer": "ipython3",
   "version": "3.12.7"
  }
 },
 "nbformat": 4,
 "nbformat_minor": 5
}
